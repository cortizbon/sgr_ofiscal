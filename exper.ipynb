{
 "cells": [
  {
   "cell_type": "code",
   "execution_count": 1,
   "metadata": {},
   "outputs": [],
   "source": [
    "import pandas as pd"
   ]
  },
  {
   "cell_type": "code",
   "execution_count": 4,
   "metadata": {},
   "outputs": [],
   "source": [
    "df = pd.read_csv('datasets/sgr_fia.csv')"
   ]
  },
  {
   "cell_type": "code",
   "execution_count": 7,
   "metadata": {},
   "outputs": [
    {
     "data": {
      "text/plain": [
       "array(['INVERSION', ' AHORRO ', ' OTROS ', 'INVERSIÓN', 'AHORRO', 'OTROS',\n",
       "       'RECAUDO CORRIENTE NO AFORADO /5',\n",
       "       'INGRESOS CORRIENTES INVERSIÓN /1',\n",
       "       'RECAUDO CORRIENTE NO AFORADO /3', 'MEDIDAS INVERSIÓN /4',\n",
       "       'MEDIDAS AHORRO /4'], dtype=object)"
      ]
     },
     "execution_count": 7,
     "metadata": {},
     "output_type": "execute_result"
    }
   ],
   "source": [
    "df['CONCEPTO 1'].unique()"
   ]
  },
  {
   "cell_type": "code",
   "execution_count": 9,
   "metadata": {},
   "outputs": [],
   "source": [
    "df['CONCEPTO 1'].replace(\"INVERSION\", 'INVERSIÓN', inplace=True)"
   ]
  },
  {
   "cell_type": "code",
   "execution_count": 12,
   "metadata": {},
   "outputs": [
    {
     "data": {
      "text/html": [
       "<div>\n",
       "<style scoped>\n",
       "    .dataframe tbody tr th:only-of-type {\n",
       "        vertical-align: middle;\n",
       "    }\n",
       "\n",
       "    .dataframe tbody tr th {\n",
       "        vertical-align: top;\n",
       "    }\n",
       "\n",
       "    .dataframe thead th {\n",
       "        text-align: right;\n",
       "    }\n",
       "</style>\n",
       "<table border=\"1\" class=\"dataframe\">\n",
       "  <thead>\n",
       "    <tr style=\"text-align: right;\">\n",
       "      <th></th>\n",
       "      <th>Periodo</th>\n",
       "      <th>CONCEPTO 1</th>\n",
       "      <th>CONCEPTO 2</th>\n",
       "      <th>CONCEPTO 3</th>\n",
       "      <th>CONCEPTO 4</th>\n",
       "      <th>Presupuesto de ley</th>\n",
       "      <th>Instrucción de abono a cuenta</th>\n",
       "    </tr>\n",
       "  </thead>\n",
       "  <tbody>\n",
       "    <tr>\n",
       "      <th>0</th>\n",
       "      <td>2012</td>\n",
       "      <td>INVERSIÓN</td>\n",
       "      <td>Asignaciones Directas</td>\n",
       "      <td>NaN</td>\n",
       "      <td>NaN</td>\n",
       "      <td>$ 3,001,484,975,576</td>\n",
       "      <td>$ 3,336,589,498,236</td>\n",
       "    </tr>\n",
       "    <tr>\n",
       "      <th>1</th>\n",
       "      <td>2012</td>\n",
       "      <td>INVERSIÓN</td>\n",
       "      <td>Fondo de Desarrollo Regional -FDR - Inversión</td>\n",
       "      <td>NaN</td>\n",
       "      <td>NaN</td>\n",
       "      <td>$ 778,697,734,879</td>\n",
       "      <td>$ 910,652,961,491</td>\n",
       "    </tr>\n",
       "    <tr>\n",
       "      <th>2</th>\n",
       "      <td>2012</td>\n",
       "      <td>INVERSIÓN</td>\n",
       "      <td>Fondo de Compensación Regional (FCR 60%)</td>\n",
       "      <td>NaN</td>\n",
       "      <td>NaN</td>\n",
       "      <td>$ 860,317,444,449</td>\n",
       "      <td>$ 1,006,103,643,966</td>\n",
       "    </tr>\n",
       "    <tr>\n",
       "      <th>3</th>\n",
       "      <td>2012</td>\n",
       "      <td>INVERSIÓN</td>\n",
       "      <td>Fondo de Compensación Regional (FCR 40%)</td>\n",
       "      <td>NaN</td>\n",
       "      <td>NaN</td>\n",
       "      <td>$ 573,544,962,966</td>\n",
       "      <td>$ 670,735,762,644</td>\n",
       "    </tr>\n",
       "    <tr>\n",
       "      <th>4</th>\n",
       "      <td>2012</td>\n",
       "      <td>INVERSIÓN</td>\n",
       "      <td>Ciencia y Tecnología</td>\n",
       "      <td>NaN</td>\n",
       "      <td>NaN</td>\n",
       "      <td>$ 869,007,519,645</td>\n",
       "      <td>$ 1,016,266,307,036</td>\n",
       "    </tr>\n",
       "    <tr>\n",
       "      <th>...</th>\n",
       "      <td>...</td>\n",
       "      <td>...</td>\n",
       "      <td>...</td>\n",
       "      <td>...</td>\n",
       "      <td>...</td>\n",
       "      <td>...</td>\n",
       "      <td>...</td>\n",
       "    </tr>\n",
       "    <tr>\n",
       "      <th>169</th>\n",
       "      <td>2023-2024</td>\n",
       "      <td>MEDIDAS INVERSIÓN /4</td>\n",
       "      <td>Asignación para la Paz</td>\n",
       "      <td>NaN</td>\n",
       "      <td>Rendimientos financieros 70% Asignación Paz</td>\n",
       "      <td>923,254,587,623.00</td>\n",
       "      <td>923,254,587,623.00</td>\n",
       "    </tr>\n",
       "    <tr>\n",
       "      <th>170</th>\n",
       "      <td>2023-2024</td>\n",
       "      <td>MEDIDAS INVERSIÓN /4</td>\n",
       "      <td>Asignación para la Paz</td>\n",
       "      <td>NaN</td>\n",
       "      <td>Rendimientos financieros 30% incentivo a la p...</td>\n",
       "      <td>395,680,537,553.00</td>\n",
       "      <td>395,680,537,553.00</td>\n",
       "    </tr>\n",
       "    <tr>\n",
       "      <th>171</th>\n",
       "      <td>2023-2024</td>\n",
       "      <td>MEDIDAS INVERSIÓN /4</td>\n",
       "      <td>Conservación de las áreas ambientales estratég...</td>\n",
       "      <td>NaN</td>\n",
       "      <td>Mayor recaudo</td>\n",
       "      <td>1,934,315,575,221.92</td>\n",
       "      <td>1,934,315,575,222.00</td>\n",
       "    </tr>\n",
       "    <tr>\n",
       "      <th>172</th>\n",
       "      <td>2023-2024</td>\n",
       "      <td>MEDIDAS INVERSIÓN /4</td>\n",
       "      <td>Emprendimiento y generación de empleo</td>\n",
       "      <td>NaN</td>\n",
       "      <td>Mayor recaudo</td>\n",
       "      <td>483,578,893,805.48</td>\n",
       "      <td>483,578,893,805.00</td>\n",
       "    </tr>\n",
       "    <tr>\n",
       "      <th>173</th>\n",
       "      <td>2023-2024</td>\n",
       "      <td>MEDIDAS AHORRO /4</td>\n",
       "      <td>Fondo de Ahorro y Estabilización (FAE)</td>\n",
       "      <td>NaN</td>\n",
       "      <td>Mayor Recaudo</td>\n",
       "      <td>4,352,210,044,249.35</td>\n",
       "      <td>4,352,210,044,249.00</td>\n",
       "    </tr>\n",
       "  </tbody>\n",
       "</table>\n",
       "<p>174 rows × 7 columns</p>\n",
       "</div>"
      ],
      "text/plain": [
       "       Periodo            CONCEPTO 1  \\\n",
       "0         2012             INVERSIÓN   \n",
       "1         2012             INVERSIÓN   \n",
       "2         2012             INVERSIÓN   \n",
       "3         2012             INVERSIÓN   \n",
       "4         2012             INVERSIÓN   \n",
       "..         ...                   ...   \n",
       "169  2023-2024  MEDIDAS INVERSIÓN /4   \n",
       "170  2023-2024  MEDIDAS INVERSIÓN /4   \n",
       "171  2023-2024  MEDIDAS INVERSIÓN /4   \n",
       "172  2023-2024  MEDIDAS INVERSIÓN /4   \n",
       "173  2023-2024     MEDIDAS AHORRO /4   \n",
       "\n",
       "                                            CONCEPTO 2 CONCEPTO 3  \\\n",
       "0                                Asignaciones Directas        NaN   \n",
       "1        Fondo de Desarrollo Regional -FDR - Inversión        NaN   \n",
       "2             Fondo de Compensación Regional (FCR 60%)        NaN   \n",
       "3             Fondo de Compensación Regional (FCR 40%)        NaN   \n",
       "4                                 Ciencia y Tecnología        NaN   \n",
       "..                                                 ...        ...   \n",
       "169                             Asignación para la Paz        NaN   \n",
       "170                             Asignación para la Paz        NaN   \n",
       "171  Conservación de las áreas ambientales estratég...        NaN   \n",
       "172              Emprendimiento y generación de empleo        NaN   \n",
       "173             Fondo de Ahorro y Estabilización (FAE)        NaN   \n",
       "\n",
       "                                            CONCEPTO 4    Presupuesto de ley  \\\n",
       "0                                                  NaN   $ 3,001,484,975,576   \n",
       "1                                                  NaN     $ 778,697,734,879   \n",
       "2                                                  NaN     $ 860,317,444,449   \n",
       "3                                                  NaN     $ 573,544,962,966   \n",
       "4                                                  NaN     $ 869,007,519,645   \n",
       "..                                                 ...                   ...   \n",
       "169        Rendimientos financieros 70% Asignación Paz    923,254,587,623.00   \n",
       "170   Rendimientos financieros 30% incentivo a la p...    395,680,537,553.00   \n",
       "171                                      Mayor recaudo  1,934,315,575,221.92   \n",
       "172                                      Mayor recaudo    483,578,893,805.48   \n",
       "173                                      Mayor Recaudo  4,352,210,044,249.35   \n",
       "\n",
       "    Instrucción de abono a cuenta  \n",
       "0             $ 3,336,589,498,236  \n",
       "1               $ 910,652,961,491  \n",
       "2             $ 1,006,103,643,966  \n",
       "3               $ 670,735,762,644  \n",
       "4             $ 1,016,266,307,036  \n",
       "..                            ...  \n",
       "169            923,254,587,623.00  \n",
       "170            395,680,537,553.00  \n",
       "171          1,934,315,575,222.00  \n",
       "172            483,578,893,805.00  \n",
       "173          4,352,210,044,249.00  \n",
       "\n",
       "[174 rows x 7 columns]"
      ]
     },
     "execution_count": 12,
     "metadata": {},
     "output_type": "execute_result"
    }
   ],
   "source": [
    "df['CONCEPTO 2'] = df['CONCEPTO 2'].str.strip()\n",
    "df"
   ]
  },
  {
   "cell_type": "code",
   "execution_count": 13,
   "metadata": {},
   "outputs": [
    {
     "data": {
      "text/plain": [
       "array(['Asignaciones Directas',\n",
       "       'Fondo de Desarrollo Regional -FDR - Inversión',\n",
       "       'Fondo de Compensación Regional (FCR 60%)',\n",
       "       'Fondo de Compensación Regional (FCR 40%)', 'Ciencia y Tecnología',\n",
       "       'Municipios Rio Magdalena y Canal del Dique', 'FONPET', 'FAE',\n",
       "       'Fiscalización, Yacimientos y Cartografía', 'Sistema de Monitoreo',\n",
       "       'Funcionamiento SGR',\n",
       "       'Fondo de Desarrollo Regional -FDR - Compensaciones',\n",
       "       'Asignación para la PAZ', 'Asignación para la Inversión Local',\n",
       "       'Asignación para la Inversión Regional', 'Asignación Ambiental',\n",
       "       'Asignación para Ciencia, Tecnología e Innovación',\n",
       "       'Asignación para la Paz',\n",
       "       'Corporación Autónoma del Rio Grande de la Magdalena',\n",
       "       'Fondo de Ahorro y Estabilización (FAE)',\n",
       "       'Fondo Nacional de Pensiones de las Entidades Territoriales (FONPET)',\n",
       "       'Funcionamiento', 'Fiscalización',\n",
       "       'Sistema de Seguimiento,  Evaluación y Control (SSEC)', nan,\n",
       "       'Adición Asignaciones Directas',\n",
       "       'Municipios Río Magdalena y Canal Dique',\n",
       "       'Fondo Ahorro Pensional Territorial(FONPET)',\n",
       "       'Sistema de Seguimiento, Evaluación y Control (SSEC)',\n",
       "       'Conservación de las áreas ambientales estratégicas',\n",
       "       'Emprendimiento y generación de empleo'], dtype=object)"
      ]
     },
     "execution_count": 13,
     "metadata": {},
     "output_type": "execute_result"
    }
   ],
   "source": [
    "df['CONCEPTO 2'].unique()"
   ]
  },
  {
   "cell_type": "code",
   "execution_count": 17,
   "metadata": {},
   "outputs": [],
   "source": [
    "df.loc[df['CONCEPTO 2'].str.contains('FONPET').fillna(False), 'CONCEPTO 2'] = 'FONPET'"
   ]
  },
  {
   "cell_type": "code",
   "execution_count": 20,
   "metadata": {},
   "outputs": [],
   "source": [
    "df.loc[df['CONCEPTO 2'].str.contains('PAZ').fillna(False), 'CONCEPTO 2'] = 'Asignación para la Paz'"
   ]
  },
  {
   "cell_type": "code",
   "execution_count": 23,
   "metadata": {},
   "outputs": [
    {
     "name": "stderr",
     "output_type": "stream",
     "text": [
      "/var/folders/rd/zs4xvzqn0qqds7psf6_1f74m0000gn/T/ipykernel_27832/2947433318.py:1: UserWarning: This pattern is interpreted as a regular expression, and has match groups. To actually get the groups, use str.extract.\n",
      "  df.loc[df['CONCEPTO 2'].str.contains('(SSEC)').fillna(False), 'CONCEPTO 2'] = \"Sistema de Seguimiento, Evaluación y Control (SSEC)\"\n"
     ]
    }
   ],
   "source": [
    "df.loc[df['CONCEPTO 2'].str.contains('(SSEC)').fillna(False), 'CONCEPTO 2'] = \"Sistema de Seguimiento, Evaluación y Control (SSEC)\""
   ]
  },
  {
   "cell_type": "code",
   "execution_count": 26,
   "metadata": {},
   "outputs": [],
   "source": [
    "df.loc[df['CONCEPTO 2'].str.contains('FAE').fillna(False), 'CONCEPTO 2'] = \"FAE\""
   ]
  },
  {
   "cell_type": "code",
   "execution_count": 29,
   "metadata": {},
   "outputs": [],
   "source": [
    "df.loc[df['CONCEPTO 2'].str.contains('Dique').fillna(False), 'CONCEPTO 2'] = \"Municipios Rio Magdalena y Canal del Dique\""
   ]
  },
  {
   "cell_type": "code",
   "execution_count": 33,
   "metadata": {},
   "outputs": [],
   "source": [
    "df.loc[df['CONCEPTO 2'].str.contains('Funcionamiento').fillna(False), 'CONCEPTO 2'] = \"Funcionamiento\""
   ]
  },
  {
   "cell_type": "code",
   "execution_count": 43,
   "metadata": {},
   "outputs": [],
   "source": [
    "df['CONCEPTO 1'] = df['CONCEPTO 1'].str.strip()"
   ]
  },
  {
   "cell_type": "code",
   "execution_count": 44,
   "metadata": {},
   "outputs": [],
   "source": []
  },
  {
   "cell_type": "code",
   "execution_count": 46,
   "metadata": {},
   "outputs": [
    {
     "data": {
      "text/plain": [
       "array(['INVERSIÓN', 'AHORRO', 'OTROS', 'RECAUDO CORRIENTE NO AFORADO /5',\n",
       "       'INGRESOS CORRIENTES INVERSIÓN /1',\n",
       "       'RECAUDO CORRIENTE NO AFORADO /3', 'MEDIDAS INVERSIÓN /4',\n",
       "       'MEDIDAS AHORRO /4'], dtype=object)"
      ]
     },
     "execution_count": 46,
     "metadata": {},
     "output_type": "execute_result"
    }
   ],
   "source": [
    "df['CONCEPTO 1'].unique()"
   ]
  },
  {
   "cell_type": "code",
   "execution_count": 62,
   "metadata": {},
   "outputs": [],
   "source": [
    "df['Instrucción de abono a cuenta'] = df['Instrucción de abono a cuenta'].str.replace(\"$\", \"\").str.replace(\",\", \"\").str.strip().astype(float)"
   ]
  },
  {
   "cell_type": "code",
   "execution_count": 64,
   "metadata": {},
   "outputs": [],
   "source": [
    "df.to_csv('datasets/sgr_fia.csv', index=False)"
   ]
  },
  {
   "cell_type": "code",
   "execution_count": 65,
   "metadata": {},
   "outputs": [],
   "source": [
    "df2 = pd.read_csv('datasets/sgr_func.csv')"
   ]
  },
  {
   "cell_type": "code",
   "execution_count": 70,
   "metadata": {},
   "outputs": [],
   "source": [
    "df2['Beneficiario'] = df2['Beneficiario'].str.strip()"
   ]
  },
  {
   "cell_type": "code",
   "execution_count": 71,
   "metadata": {},
   "outputs": [],
   "source": [
    "df2['Beneficiario 2'] = df2['Beneficiario 2'].str.strip()"
   ]
  },
  {
   "cell_type": "code",
   "execution_count": 79,
   "metadata": {},
   "outputs": [],
   "source": [
    "df2['Beneficiario 2'] = df2['Beneficiario 2'].str.split(\".\").str[-1].str.strip()"
   ]
  },
  {
   "cell_type": "code",
   "execution_count": 82,
   "metadata": {},
   "outputs": [],
   "source": [
    "df2.columns = df2.columns.str.strip()"
   ]
  },
  {
   "cell_type": "code",
   "execution_count": 88,
   "metadata": {},
   "outputs": [],
   "source": [
    "df2['Apropiación vigente disponible'] = df2['Apropiación vigente disponible'].str.strip().str.replace(\"$\", \"\").str.replace(\",\", \"\").astype(int)\n",
    "df2['Caja total'] = df2['Caja total'].str.strip().str.replace(\"$\", \"\").str.replace(\",\", \"\").astype(int)"
   ]
  },
  {
   "cell_type": "code",
   "execution_count": 93,
   "metadata": {},
   "outputs": [],
   "source": [
    "df2['Periodo'] = df2['Periodo'].str.replace(\"$\", \"\").str.replace(\",\", \"\").str.strip()"
   ]
  },
  {
   "cell_type": "code",
   "execution_count": 95,
   "metadata": {},
   "outputs": [],
   "source": [
    "df2.to_csv('datasets/sgr_func.csv', index=False)"
   ]
  },
  {
   "cell_type": "code",
   "execution_count": 96,
   "metadata": {},
   "outputs": [
    {
     "data": {
      "text/html": [
       "<div>\n",
       "<style scoped>\n",
       "    .dataframe tbody tr th:only-of-type {\n",
       "        vertical-align: middle;\n",
       "    }\n",
       "\n",
       "    .dataframe tbody tr th {\n",
       "        vertical-align: top;\n",
       "    }\n",
       "\n",
       "    .dataframe thead th {\n",
       "        text-align: right;\n",
       "    }\n",
       "</style>\n",
       "<table border=\"1\" class=\"dataframe\">\n",
       "  <thead>\n",
       "    <tr style=\"text-align: right;\">\n",
       "      <th></th>\n",
       "      <th>Beneficiario</th>\n",
       "      <th>Beneficiario 2</th>\n",
       "      <th>Apropiación vigente disponible</th>\n",
       "      <th>Caja total</th>\n",
       "      <th>Periodo</th>\n",
       "    </tr>\n",
       "  </thead>\n",
       "  <tbody>\n",
       "    <tr>\n",
       "      <th>0</th>\n",
       "      <td>Órganos SGR</td>\n",
       "      <td>DNP</td>\n",
       "      <td>6700000000</td>\n",
       "      <td>6700000000</td>\n",
       "      <td>2012</td>\n",
       "    </tr>\n",
       "    <tr>\n",
       "      <th>1</th>\n",
       "      <td>Órganos SGR</td>\n",
       "      <td>Comisión Rectora - DNP</td>\n",
       "      <td>300000000</td>\n",
       "      <td>300000000</td>\n",
       "      <td>2012</td>\n",
       "    </tr>\n",
       "    <tr>\n",
       "      <th>2</th>\n",
       "      <td>Órganos SGR</td>\n",
       "      <td>Ministerio de Hacienda y Crédito Público</td>\n",
       "      <td>6500000000</td>\n",
       "      <td>6500000000</td>\n",
       "      <td>2012</td>\n",
       "    </tr>\n",
       "    <tr>\n",
       "      <th>3</th>\n",
       "      <td>Órganos SGR</td>\n",
       "      <td>Ministerio de Ciencia Tecnología e Innovación</td>\n",
       "      <td>6500000000</td>\n",
       "      <td>6500000000</td>\n",
       "      <td>2012</td>\n",
       "    </tr>\n",
       "    <tr>\n",
       "      <th>4</th>\n",
       "      <td>ST de los OCAD - Pueblos y Comunidades Étnicas</td>\n",
       "      <td>Municipales</td>\n",
       "      <td>52375000000</td>\n",
       "      <td>52375000000</td>\n",
       "      <td>2012</td>\n",
       "    </tr>\n",
       "    <tr>\n",
       "      <th>...</th>\n",
       "      <td>...</td>\n",
       "      <td>...</td>\n",
       "      <td>...</td>\n",
       "      <td>...</td>\n",
       "      <td>...</td>\n",
       "    </tr>\n",
       "    <tr>\n",
       "      <th>176</th>\n",
       "      <td>Otras entidades y conceptos</td>\n",
       "      <td>Autoridad Nacional de Licencias Ambientales</td>\n",
       "      <td>31514021956</td>\n",
       "      <td>28251935870</td>\n",
       "      <td>2023-2024</td>\n",
       "    </tr>\n",
       "    <tr>\n",
       "      <th>177</th>\n",
       "      <td>Otras entidades y conceptos</td>\n",
       "      <td>Empresa Promotora del Desarrollo Territorial</td>\n",
       "      <td>6326511590</td>\n",
       "      <td>6326511590</td>\n",
       "      <td>2023-2024</td>\n",
       "    </tr>\n",
       "    <tr>\n",
       "      <th>178</th>\n",
       "      <td>Otras entidades y conceptos</td>\n",
       "      <td>Incentivo a la Producción - MME</td>\n",
       "      <td>33203540545</td>\n",
       "      <td>33203540545</td>\n",
       "      <td>2023-2024</td>\n",
       "    </tr>\n",
       "    <tr>\n",
       "      <th>179</th>\n",
       "      <td>Otras entidades y conceptos</td>\n",
       "      <td>Ministerio del Interior</td>\n",
       "      <td>1058901663</td>\n",
       "      <td>1058901663</td>\n",
       "      <td>2023-2024</td>\n",
       "    </tr>\n",
       "    <tr>\n",
       "      <th>180</th>\n",
       "      <td>Otras entidades y conceptos</td>\n",
       "      <td>Recursos por distribuir</td>\n",
       "      <td>58803405915</td>\n",
       "      <td>53162210158</td>\n",
       "      <td>2023-2024</td>\n",
       "    </tr>\n",
       "  </tbody>\n",
       "</table>\n",
       "<p>181 rows × 5 columns</p>\n",
       "</div>"
      ],
      "text/plain": [
       "                                       Beneficiario  \\\n",
       "0                                       Órganos SGR   \n",
       "1                                       Órganos SGR   \n",
       "2                                       Órganos SGR   \n",
       "3                                       Órganos SGR   \n",
       "4    ST de los OCAD - Pueblos y Comunidades Étnicas   \n",
       "..                                              ...   \n",
       "176                     Otras entidades y conceptos   \n",
       "177                     Otras entidades y conceptos   \n",
       "178                     Otras entidades y conceptos   \n",
       "179                     Otras entidades y conceptos   \n",
       "180                     Otras entidades y conceptos   \n",
       "\n",
       "                                    Beneficiario 2  \\\n",
       "0                                              DNP   \n",
       "1                           Comisión Rectora - DNP   \n",
       "2         Ministerio de Hacienda y Crédito Público   \n",
       "3    Ministerio de Ciencia Tecnología e Innovación   \n",
       "4                                      Municipales   \n",
       "..                                             ...   \n",
       "176    Autoridad Nacional de Licencias Ambientales   \n",
       "177   Empresa Promotora del Desarrollo Territorial   \n",
       "178                Incentivo a la Producción - MME   \n",
       "179                        Ministerio del Interior   \n",
       "180                        Recursos por distribuir   \n",
       "\n",
       "     Apropiación vigente disponible   Caja total    Periodo  \n",
       "0                        6700000000   6700000000       2012  \n",
       "1                         300000000    300000000       2012  \n",
       "2                        6500000000   6500000000       2012  \n",
       "3                        6500000000   6500000000       2012  \n",
       "4                       52375000000  52375000000       2012  \n",
       "..                              ...          ...        ...  \n",
       "176                     31514021956  28251935870  2023-2024  \n",
       "177                      6326511590   6326511590  2023-2024  \n",
       "178                     33203540545  33203540545  2023-2024  \n",
       "179                      1058901663   1058901663  2023-2024  \n",
       "180                     58803405915  53162210158  2023-2024  \n",
       "\n",
       "[181 rows x 5 columns]"
      ]
     },
     "execution_count": 96,
     "metadata": {},
     "output_type": "execute_result"
    }
   ],
   "source": [
    "df2"
   ]
  },
  {
   "cell_type": "code",
   "execution_count": 132,
   "metadata": {},
   "outputs": [],
   "source": [
    "df3 = pd.read_csv('datasets/sgr_miner.csv')"
   ]
  },
  {
   "cell_type": "code",
   "execution_count": 106,
   "metadata": {},
   "outputs": [],
   "source": [
    "df3.to_csv('datasets/sgr_miner.csv', index=False)"
   ]
  },
  {
   "cell_type": "code",
   "execution_count": null,
   "metadata": {},
   "outputs": [],
   "source": [
    "df3.drop(columns=['Tipo Recurso Natural', 'Periodicidad', ''])"
   ]
  },
  {
   "cell_type": "code",
   "execution_count": 133,
   "metadata": {},
   "outputs": [],
   "source": [
    "df3.rename(columns={'Nombre Municipio': 'Municipio',\n",
    "                    'Nombre Departamento': 'Departamento'}, inplace=True)"
   ]
  },
  {
   "cell_type": "code",
   "execution_count": 134,
   "metadata": {},
   "outputs": [
    {
     "data": {
      "text/plain": [
       "array([2023., 2024., 2018., 2014., 2022., 2012., 2019., 2013., 2015.,\n",
       "       2016., 2017., 2020., 2021.])"
      ]
     },
     "execution_count": 134,
     "metadata": {},
     "output_type": "execute_result"
    }
   ],
   "source": [
    "df3['Año Liquidado'].unique()"
   ]
  },
  {
   "cell_type": "code",
   "execution_count": 145,
   "metadata": {},
   "outputs": [],
   "source": [
    "dic_ans = {2012: \"2012\",\n",
    "2013: \"2013-2014\",\n",
    "2014: \"2013-2014\",\n",
    "2015: \"2015-2016\",\n",
    "2016: \"2015-2016\",\n",
    "2017: \"2017-2018\",\n",
    "2018: \"2017-2018\",\n",
    "2019: \"2019-2020\",\n",
    "2020: \"2019-2020\",\n",
    "2021: \"2021-2022\",\n",
    "2022: \"2021-2022\",\n",
    "2023: \"2023-2024\",\n",
    "2024: \"2023-2024\"}\n",
    "\n",
    "df3['Periodo'] = df3['Año Liquidado'].astype(int).map(dic_ans)"
   ]
  },
  {
   "cell_type": "code",
   "execution_count": 146,
   "metadata": {},
   "outputs": [
    {
     "data": {
      "text/plain": [
       "array(['2023-2024', '2017-2018', '2013-2014', '2021-2022', '2012',\n",
       "       '2019-2020', '2015-2016'], dtype=object)"
      ]
     },
     "execution_count": 146,
     "metadata": {},
     "output_type": "execute_result"
    }
   ],
   "source": [
    "df3['Periodo'].unique()"
   ]
  },
  {
   "cell_type": "code",
   "execution_count": 137,
   "metadata": {},
   "outputs": [],
   "source": [
    "df3['Contraprestación'] = df3['Contraprestación'].str.strip()"
   ]
  },
  {
   "cell_type": "code",
   "execution_count": 140,
   "metadata": {},
   "outputs": [],
   "source": [
    "df3['Regalías causadas'] = pd.to_numeric(df3['Regalías causadas'].str.replace(\",\", \"\"), errors='coerce')"
   ]
  },
  {
   "cell_type": "code",
   "execution_count": 139,
   "metadata": {},
   "outputs": [],
   "source": [
    "df3.columns = df3.columns.str.strip()"
   ]
  },
  {
   "cell_type": "code",
   "execution_count": 152,
   "metadata": {},
   "outputs": [],
   "source": [
    "t = df3.groupby(['Código DANE', \"Municipio\", \"Departamento\", \"clasificacion\", \"Recurso Natural\", \"min agrupado\", \"Periodo\"])['Regalías causadas'].sum().reset_index()#"
   ]
  },
  {
   "cell_type": "code",
   "execution_count": 155,
   "metadata": {},
   "outputs": [],
   "source": [
    "t['Regalías causadas %'] = t['Regalías causadas'] / t['Regalías causadas'].sum()"
   ]
  },
  {
   "cell_type": "code",
   "execution_count": 156,
   "metadata": {},
   "outputs": [],
   "source": [
    "t.to_csv('datasets/sgr_miner_2.csv', index=False)"
   ]
  },
  {
   "cell_type": "code",
   "execution_count": 8,
   "metadata": {},
   "outputs": [],
   "source": [
    "import pandas as pd\n",
    "\n",
    "df4 = pd.read_csv('datasets/sgr_hidroc.csv')\n"
   ]
  },
  {
   "cell_type": "code",
   "execution_count": 9,
   "metadata": {},
   "outputs": [
    {
     "name": "stdout",
     "output_type": "stream",
     "text": [
      "Error en VIGENCIA\n",
      "FISCAL\n",
      "Error en Periodo\n"
     ]
    }
   ],
   "source": [
    "for col in df4.columns:\n",
    "    try:\n",
    "        df4[col] = df4[col].str.replace(\",\", \"\").astype(float)\n",
    "    except:\n",
    "        print(f\"Error en {col}\")"
   ]
  },
  {
   "cell_type": "code",
   "execution_count": 10,
   "metadata": {},
   "outputs": [],
   "source": [
    "df4.to_csv('datasets/sgr_hidroc.csv', index=False)"
   ]
  },
  {
   "cell_type": "code",
   "execution_count": 12,
   "metadata": {},
   "outputs": [],
   "source": [
    "df3 = pd.read_csv('datasets/sgr_miner_2.csv')"
   ]
  },
  {
   "cell_type": "code",
   "execution_count": 20,
   "metadata": {},
   "outputs": [],
   "source": [
    "t1 = df3.groupby('Periodo')['Regalías causadas'].sum().reset_index()"
   ]
  },
  {
   "cell_type": "code",
   "execution_count": 16,
   "metadata": {},
   "outputs": [],
   "source": [
    "df4['Total Recaudo Hidrocarburos'] = df4['RECAUDO POR GAS\\n$COP'] + df4['RECAUDO POR CRUDO (ESPECIE Y MONETIZADO) $COP']"
   ]
  },
  {
   "cell_type": "code",
   "execution_count": 39,
   "metadata": {},
   "outputs": [],
   "source": [
    "df4[[\"Gas %\", \"Petróleo %\"]] = df4[['RECAUDO POR GAS\\n$COP', 'RECAUDO POR CRUDO (ESPECIE Y MONETIZADO) $COP']].div(df4['Total Recaudo Hidrocarburos'], axis=0)"
   ]
  },
  {
   "cell_type": "code",
   "execution_count": 46,
   "metadata": {},
   "outputs": [],
   "source": [
    "t = (df4\n",
    " .groupby('Periodo')[['RECAUDO POR GAS\\n$COP', \n",
    "                      'RECAUDO POR CRUDO (ESPECIE Y MONETIZADO) $COP']]\n",
    " .sum()\n",
    " .assign(total= lambda x: x[['RECAUDO POR GAS\\n$COP', \n",
    "                      'RECAUDO POR CRUDO (ESPECIE Y MONETIZADO) $COP']].sum(axis=1)))\n",
    "\n",
    "t[['RECAUDO POR GAS\\n$COP','RECAUDO POR CRUDO (ESPECIE Y MONETIZADO) $COP']].div(t['total'], axis=0)"
   ]
  },
  {
   "cell_type": "code",
   "execution_count": 50,
   "metadata": {},
   "outputs": [
    {
     "data": {
      "text/html": [
       "<div>\n",
       "<style scoped>\n",
       "    .dataframe tbody tr th:only-of-type {\n",
       "        vertical-align: middle;\n",
       "    }\n",
       "\n",
       "    .dataframe tbody tr th {\n",
       "        vertical-align: top;\n",
       "    }\n",
       "\n",
       "    .dataframe thead th {\n",
       "        text-align: right;\n",
       "    }\n",
       "</style>\n",
       "<table border=\"1\" class=\"dataframe\">\n",
       "  <thead>\n",
       "    <tr style=\"text-align: right;\">\n",
       "      <th></th>\n",
       "      <th>RECAUDO POR GAS\\n$COP</th>\n",
       "      <th>RECAUDO POR CRUDO (ESPECIE Y MONETIZADO) $COP</th>\n",
       "    </tr>\n",
       "    <tr>\n",
       "      <th>Periodo</th>\n",
       "      <th></th>\n",
       "      <th></th>\n",
       "    </tr>\n",
       "  </thead>\n",
       "  <tbody>\n",
       "    <tr>\n",
       "      <th>2012</th>\n",
       "      <td>0.031696</td>\n",
       "      <td>0.968304</td>\n",
       "    </tr>\n",
       "    <tr>\n",
       "      <th>2013-2014</th>\n",
       "      <td>0.083847</td>\n",
       "      <td>0.916153</td>\n",
       "    </tr>\n",
       "    <tr>\n",
       "      <th>2015-2016</th>\n",
       "      <td>0.182427</td>\n",
       "      <td>0.817573</td>\n",
       "    </tr>\n",
       "    <tr>\n",
       "      <th>2017-2018</th>\n",
       "      <td>0.115360</td>\n",
       "      <td>0.884640</td>\n",
       "    </tr>\n",
       "    <tr>\n",
       "      <th>2019-2020</th>\n",
       "      <td>0.160383</td>\n",
       "      <td>0.839617</td>\n",
       "    </tr>\n",
       "    <tr>\n",
       "      <th>2021-2022</th>\n",
       "      <td>0.129381</td>\n",
       "      <td>0.870619</td>\n",
       "    </tr>\n",
       "    <tr>\n",
       "      <th>2023-2024</th>\n",
       "      <td>0.147697</td>\n",
       "      <td>0.852303</td>\n",
       "    </tr>\n",
       "  </tbody>\n",
       "</table>\n",
       "</div>"
      ],
      "text/plain": [
       "           RECAUDO POR GAS\\n$COP  \\\n",
       "Periodo                            \n",
       "2012                    0.031696   \n",
       "2013-2014               0.083847   \n",
       "2015-2016               0.182427   \n",
       "2017-2018               0.115360   \n",
       "2019-2020               0.160383   \n",
       "2021-2022               0.129381   \n",
       "2023-2024               0.147697   \n",
       "\n",
       "           RECAUDO POR CRUDO (ESPECIE Y MONETIZADO) $COP  \n",
       "Periodo                                                   \n",
       "2012                                            0.968304  \n",
       "2013-2014                                       0.916153  \n",
       "2015-2016                                       0.817573  \n",
       "2017-2018                                       0.884640  \n",
       "2019-2020                                       0.839617  \n",
       "2021-2022                                       0.870619  \n",
       "2023-2024                                       0.852303  "
      ]
     },
     "execution_count": 50,
     "metadata": {},
     "output_type": "execute_result"
    }
   ],
   "source": []
  },
  {
   "cell_type": "code",
   "execution_count": 40,
   "metadata": {},
   "outputs": [],
   "source": [
    "df4.to_csv('datasets/sgr_hidroc.csv', index=False)"
   ]
  },
  {
   "cell_type": "code",
   "execution_count": 19,
   "metadata": {},
   "outputs": [],
   "source": [
    "t2 = df4.groupby('Periodo')['Total Recaudo Hidrocarburos'].sum().reset_index()"
   ]
  },
  {
   "cell_type": "code",
   "execution_count": 24,
   "metadata": {},
   "outputs": [],
   "source": [
    "tot = t1.merge(t2, on='Periodo').set_index('Periodo')"
   ]
  },
  {
   "cell_type": "code",
   "execution_count": 31,
   "metadata": {},
   "outputs": [
    {
     "ename": "ValueError",
     "evalue": "Columns must be same length as key",
     "output_type": "error",
     "traceback": [
      "\u001b[0;31m---------------------------------------------------------------------------\u001b[0m",
      "\u001b[0;31mValueError\u001b[0m                                Traceback (most recent call last)",
      "Cell \u001b[0;32mIn[31], line 1\u001b[0m\n\u001b[0;32m----> 1\u001b[0m \u001b[43mtot\u001b[49m\u001b[43m[\u001b[49m\u001b[43m[\u001b[49m\u001b[38;5;124;43m\"\u001b[39;49m\u001b[38;5;124;43mMinería \u001b[39;49m\u001b[38;5;124;43m%\u001b[39;49m\u001b[38;5;124;43m\"\u001b[39;49m\u001b[43m,\u001b[49m\u001b[43m \u001b[49m\u001b[38;5;124;43m\"\u001b[39;49m\u001b[38;5;124;43mHidrocarburos \u001b[39;49m\u001b[38;5;124;43m%\u001b[39;49m\u001b[38;5;124;43m\"\u001b[39;49m\u001b[43m]\u001b[49m\u001b[43m]\u001b[49m \u001b[38;5;241m=\u001b[39m tot[[\u001b[38;5;124m'\u001b[39m\u001b[38;5;124mRegalías causadas\u001b[39m\u001b[38;5;124m'\u001b[39m, \u001b[38;5;124m'\u001b[39m\u001b[38;5;124mTotal Recaudo Hidrocarburos\u001b[39m\u001b[38;5;124m'\u001b[39m]] \u001b[38;5;241m/\u001b[39m tot[[\u001b[38;5;124m'\u001b[39m\u001b[38;5;124mRegalías causadas\u001b[39m\u001b[38;5;124m'\u001b[39m, \u001b[38;5;124m'\u001b[39m\u001b[38;5;124mTotal Recaudo Hidrocarburos\u001b[39m\u001b[38;5;124m'\u001b[39m]]\u001b[38;5;241m.\u001b[39msum(axis\u001b[38;5;241m=\u001b[39m\u001b[38;5;241m1\u001b[39m)\n",
      "File \u001b[0;32m/Library/Frameworks/Python.framework/Versions/3.11/lib/python3.11/site-packages/pandas/core/frame.py:4082\u001b[0m, in \u001b[0;36mDataFrame.__setitem__\u001b[0;34m(self, key, value)\u001b[0m\n\u001b[1;32m   4080\u001b[0m     \u001b[38;5;28mself\u001b[39m\u001b[38;5;241m.\u001b[39m_setitem_frame(key, value)\n\u001b[1;32m   4081\u001b[0m \u001b[38;5;28;01melif\u001b[39;00m \u001b[38;5;28misinstance\u001b[39m(key, (Series, np\u001b[38;5;241m.\u001b[39mndarray, \u001b[38;5;28mlist\u001b[39m, Index)):\n\u001b[0;32m-> 4082\u001b[0m     \u001b[38;5;28;43mself\u001b[39;49m\u001b[38;5;241;43m.\u001b[39;49m\u001b[43m_setitem_array\u001b[49m\u001b[43m(\u001b[49m\u001b[43mkey\u001b[49m\u001b[43m,\u001b[49m\u001b[43m \u001b[49m\u001b[43mvalue\u001b[49m\u001b[43m)\u001b[49m\n\u001b[1;32m   4083\u001b[0m \u001b[38;5;28;01melif\u001b[39;00m \u001b[38;5;28misinstance\u001b[39m(value, DataFrame):\n\u001b[1;32m   4084\u001b[0m     \u001b[38;5;28mself\u001b[39m\u001b[38;5;241m.\u001b[39m_set_item_frame_value(key, value)\n",
      "File \u001b[0;32m/Library/Frameworks/Python.framework/Versions/3.11/lib/python3.11/site-packages/pandas/core/frame.py:4124\u001b[0m, in \u001b[0;36mDataFrame._setitem_array\u001b[0;34m(self, key, value)\u001b[0m\n\u001b[1;32m   4119\u001b[0m \u001b[38;5;28;01melse\u001b[39;00m:\n\u001b[1;32m   4120\u001b[0m     \u001b[38;5;66;03m# Note: unlike self.iloc[:, indexer] = value, this will\u001b[39;00m\n\u001b[1;32m   4121\u001b[0m     \u001b[38;5;66;03m#  never try to overwrite values inplace\u001b[39;00m\n\u001b[1;32m   4123\u001b[0m     \u001b[38;5;28;01mif\u001b[39;00m \u001b[38;5;28misinstance\u001b[39m(value, DataFrame):\n\u001b[0;32m-> 4124\u001b[0m         \u001b[43mcheck_key_length\u001b[49m\u001b[43m(\u001b[49m\u001b[38;5;28;43mself\u001b[39;49m\u001b[38;5;241;43m.\u001b[39;49m\u001b[43mcolumns\u001b[49m\u001b[43m,\u001b[49m\u001b[43m \u001b[49m\u001b[43mkey\u001b[49m\u001b[43m,\u001b[49m\u001b[43m \u001b[49m\u001b[43mvalue\u001b[49m\u001b[43m)\u001b[49m\n\u001b[1;32m   4125\u001b[0m         \u001b[38;5;28;01mfor\u001b[39;00m k1, k2 \u001b[38;5;129;01min\u001b[39;00m \u001b[38;5;28mzip\u001b[39m(key, value\u001b[38;5;241m.\u001b[39mcolumns):\n\u001b[1;32m   4126\u001b[0m             \u001b[38;5;28mself\u001b[39m[k1] \u001b[38;5;241m=\u001b[39m value[k2]\n",
      "File \u001b[0;32m/Library/Frameworks/Python.framework/Versions/3.11/lib/python3.11/site-packages/pandas/core/indexers/utils.py:390\u001b[0m, in \u001b[0;36mcheck_key_length\u001b[0;34m(columns, key, value)\u001b[0m\n\u001b[1;32m    388\u001b[0m \u001b[38;5;28;01mif\u001b[39;00m columns\u001b[38;5;241m.\u001b[39mis_unique:\n\u001b[1;32m    389\u001b[0m     \u001b[38;5;28;01mif\u001b[39;00m \u001b[38;5;28mlen\u001b[39m(value\u001b[38;5;241m.\u001b[39mcolumns) \u001b[38;5;241m!=\u001b[39m \u001b[38;5;28mlen\u001b[39m(key):\n\u001b[0;32m--> 390\u001b[0m         \u001b[38;5;28;01mraise\u001b[39;00m \u001b[38;5;167;01mValueError\u001b[39;00m(\u001b[38;5;124m\"\u001b[39m\u001b[38;5;124mColumns must be same length as key\u001b[39m\u001b[38;5;124m\"\u001b[39m)\n\u001b[1;32m    391\u001b[0m \u001b[38;5;28;01melse\u001b[39;00m:\n\u001b[1;32m    392\u001b[0m     \u001b[38;5;66;03m# Missing keys in columns are represented as -1\u001b[39;00m\n\u001b[1;32m    393\u001b[0m     \u001b[38;5;28;01mif\u001b[39;00m \u001b[38;5;28mlen\u001b[39m(columns\u001b[38;5;241m.\u001b[39mget_indexer_non_unique(key)[\u001b[38;5;241m0\u001b[39m]) \u001b[38;5;241m!=\u001b[39m \u001b[38;5;28mlen\u001b[39m(value\u001b[38;5;241m.\u001b[39mcolumns):\n",
      "\u001b[0;31mValueError\u001b[0m: Columns must be same length as key"
     ]
    }
   ],
   "source": [
    "tot[[\"Minería %\", \"Hidrocarburos %\"]] = tot[['Regalías causadas', 'Total Recaudo Hidrocarburos']] / tot[['Regalías causadas', 'Total Recaudo Hidrocarburos']].sum(axis=1)\n"
   ]
  },
  {
   "cell_type": "code",
   "execution_count": 35,
   "metadata": {},
   "outputs": [],
   "source": [
    "tot[[\"Minería %\", \"Hidrocarburos %\"]] = tot[['Regalías causadas', 'Total Recaudo Hidrocarburos']].div(tot[['Regalías causadas', 'Total Recaudo Hidrocarburos']].sum(axis=1), axis=0)"
   ]
  },
  {
   "cell_type": "code",
   "execution_count": 37,
   "metadata": {},
   "outputs": [],
   "source": [
    "tot.to_csv('datasets/sgr_regal_tot.csv')"
   ]
  },
  {
   "cell_type": "code",
   "execution_count": null,
   "metadata": {},
   "outputs": [],
   "source": []
  }
 ],
 "metadata": {
  "kernelspec": {
   "display_name": "Python 3",
   "language": "python",
   "name": "python3"
  },
  "language_info": {
   "codemirror_mode": {
    "name": "ipython",
    "version": 3
   },
   "file_extension": ".py",
   "mimetype": "text/x-python",
   "name": "python",
   "nbconvert_exporter": "python",
   "pygments_lexer": "ipython3",
   "version": "3.11.5"
  }
 },
 "nbformat": 4,
 "nbformat_minor": 2
}
